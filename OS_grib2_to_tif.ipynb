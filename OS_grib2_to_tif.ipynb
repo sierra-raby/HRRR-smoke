{
  "nbformat": 4,
  "nbformat_minor": 0,
  "metadata": {
    "colab": {
      "provenance": [],
      "include_colab_link": true
    },
    "kernelspec": {
      "display_name": "Python 3",
      "name": "python3"
    }
  },
  "cells": [
    {
      "cell_type": "markdown",
      "metadata": {
        "id": "view-in-github",
        "colab_type": "text"
      },
      "source": [
        "<a href=\"https://colab.research.google.com/github/sierra-raby/HRRR-smoke/blob/main/OS_grib2_to_tif.ipynb\" target=\"_parent\"><img src=\"https://colab.research.google.com/assets/colab-badge.svg\" alt=\"Open In Colab\"/></a>"
      ]
    },
    {
      "cell_type": "code",
      "metadata": {
        "id": "46V0H5TZ_2x-"
      },
      "source": [
        "# This script processes raw grib files from NOAA's HRRR-Smoke experimental dataset for smoke exposure studies\n",
        "# First it unzips tar files and finds missing data\n",
        "# Next it creates daily average files, outputting to tiff\n",
        "# Finally it uploads to Google Earth Engine (via Google Cloud Storage) for analysis\n",
        "\n",
        "# Setup - packages\n",
        "from osgeo import gdal\n",
        "from osgeo.gdalnumeric import *\n",
        "from osgeo.gdalconst import *"
      ],
      "execution_count": null,
      "outputs": []
    },
    {
      "cell_type": "code",
      "metadata": {
        "colab": {
          "base_uri": "https://localhost:8080/"
        },
        "id": "Tyy3hODC48Wb",
        "outputId": "e3c93fda-674b-41c7-c757-c49e90115ca8"
      },
      "source": [
        "# Setup - drive connection\n",
        "from google.colab import drive\n",
        "drive.mount('/content/drive')"
      ],
      "execution_count": null,
      "outputs": [
        {
          "output_type": "stream",
          "name": "stdout",
          "text": [
            "Mounted at /content/drive\n"
          ]
        }
      ]
    },
    {
      "cell_type": "code",
      "metadata": {
        "id": "52Q_rTD5umn9"
      },
      "source": [
        "# unzipping tar.gz files\n",
        "import tarfile\n",
        "tar = tarfile.open('/content/drive/MyDrive/for_OS/201910.tar.gz')\n",
        "tar.extractall('/content/drive/MyDrive/HRRRsmoke_OS/grib2_files/201910')"
      ],
      "execution_count": null,
      "outputs": []
    },
    {
      "cell_type": "code",
      "source": [
        "# count number of nonzero files per initialization to find missing initializaitons\n",
        "import os\n",
        "directory = \"/content/drive/MyDrive/HRRRsmoke_OS/grib2_files/201910\" # change to select month\n",
        "# iterate over initalization folders in month directory\n",
        "for init_folder in os.listdir(directory):\n",
        "    initPath = os.path.join(directory, init_folder)\n",
        "    fileSizes = []\n",
        "    #print(initPath)\n",
        "    basename = os.path.basename(initPath)\n",
        "    print(basename)\n",
        "    # continue to postprd folder\n",
        "    for postprd in os.listdir(initPath): \n",
        "          postprdPath = os.path.join(initPath, postprd)\n",
        "          # continue to grib file and call size\n",
        "          for grib in os.listdir(postprdPath):\n",
        "            file_size = os.path.getsize(postprdPath+'/'+grib) # in bytes\n",
        "            fileSizes.append(file_size)\n",
        "    # count number of 0 b files\n",
        "    numZeros = fileSizes.count(0)\n",
        "    # subtract number of 0 files from total number of files\n",
        "    numNonZero = len(fileSizes)-numZeros\n",
        "    print(str(numNonZero)+\" files.\")"
      ],
      "metadata": {
        "id": "vrABdmDRa7qN",
        "colab": {
          "base_uri": "https://localhost:8080/"
        },
        "outputId": "5e35cece-df66-47fb-d6cf-f837f4f4315c"
      },
      "execution_count": null,
      "outputs": [
        {
          "output_type": "stream",
          "name": "stdout",
          "text": [
            "2019102512\n",
            "46 files.\n",
            "2019100106\n",
            "49 files.\n",
            "2019100112\n",
            "49 files.\n",
            "2019100118\n",
            "26 files.\n",
            "2019100200\n",
            "49 files.\n",
            "2019100212\n",
            "39 files.\n",
            "2019100300\n",
            "49 files.\n",
            "2019100306\n",
            "49 files.\n",
            "2019100312\n",
            "49 files.\n",
            "2019100318\n",
            "49 files.\n",
            "2019100400\n",
            "49 files.\n",
            "2019100406\n",
            "49 files.\n",
            "2019100412\n",
            "26 files.\n",
            "2019100418\n",
            "49 files.\n",
            "2019100500\n",
            "49 files.\n",
            "2019100506\n",
            "49 files.\n",
            "2019100512\n",
            "49 files.\n",
            "2019100518\n",
            "49 files.\n",
            "2019100600\n",
            "49 files.\n",
            "2019100606\n",
            "3 files.\n",
            "2019100612\n",
            "20 files.\n",
            "2019100618\n",
            "38 files.\n",
            "2019100700\n",
            "6 files.\n",
            "2019100712\n",
            "21 files.\n",
            "2019100718\n",
            "49 files.\n",
            "2019100800\n",
            "49 files.\n",
            "2019100912\n",
            "49 files.\n",
            "2019100918\n",
            "49 files.\n",
            "2019101000\n",
            "46 files.\n",
            "2019101018\n",
            "49 files.\n",
            "2019101100\n",
            "49 files.\n",
            "2019101106\n",
            "49 files.\n",
            "2019101112\n",
            "49 files.\n",
            "2019101118\n",
            "49 files.\n",
            "2019101200\n",
            "49 files.\n",
            "2019101206\n",
            "49 files.\n",
            "2019101212\n",
            "26 files.\n",
            "2019101218\n",
            "26 files.\n",
            "2019101300\n",
            "49 files.\n",
            "2019101306\n",
            "49 files.\n",
            "2019101312\n",
            "49 files.\n",
            "2019101412\n",
            "49 files.\n",
            "2019101418\n",
            "25 files.\n",
            "2019101512\n",
            "31 files.\n",
            "2019101518\n",
            "49 files.\n",
            "2019101600\n",
            "49 files.\n",
            "2019101606\n",
            "18 files.\n",
            "2019101718\n",
            "49 files.\n",
            "2019101806\n",
            "49 files.\n",
            "2019101812\n",
            "49 files.\n",
            "2019101818\n",
            "49 files.\n",
            "2019101900\n",
            "49 files.\n",
            "2019101906\n",
            "49 files.\n",
            "2019101912\n",
            "49 files.\n",
            "2019101918\n",
            "49 files.\n",
            "2019102000\n",
            "49 files.\n",
            "2019102018\n",
            "28 files.\n",
            "2019102100\n",
            "49 files.\n",
            "2019102118\n",
            "49 files.\n",
            "2019102218\n",
            "49 files.\n",
            "2019102300\n",
            "49 files.\n",
            "2019102306\n",
            "49 files.\n",
            "2019102312\n",
            "49 files.\n",
            "2019102318\n",
            "49 files.\n",
            "2019102400\n",
            "49 files.\n",
            "2019102406\n",
            "49 files.\n",
            "2019102412\n",
            "49 files.\n",
            "2019102418\n",
            "49 files.\n",
            "2019102500\n",
            "49 files.\n",
            "2019102506\n",
            "49 files.\n",
            "2019102600\n",
            "10 files.\n",
            "2019102606\n",
            "49 files.\n",
            "2019102618\n",
            "49 files.\n",
            "2019102700\n",
            "49 files.\n",
            "2019102706\n",
            "49 files.\n",
            "2019102712\n",
            "49 files.\n",
            "2019102718\n",
            "49 files.\n",
            "2019102800\n",
            "33 files.\n",
            "2019102812\n",
            "49 files.\n",
            "2019102918\n",
            "49 files.\n",
            "2019103000\n",
            "1 files.\n",
            "2019103006\n",
            "28 files.\n",
            "2019103012\n",
            "49 files.\n",
            "2019103100\n",
            "49 files.\n",
            "2019103112\n",
            "49 files.\n",
            "2019103118\n",
            "49 files.\n"
          ]
        }
      ]
    },
    {
      "cell_type": "code",
      "metadata": {
        "colab": {
          "base_uri": "https://localhost:8080/"
        },
        "id": "EakHgg0b2zQX",
        "outputId": "dabe03c2-977f-40e7-cab5-e95dcda8cf84"
      },
      "source": [
        "# Averaging and output to tif\n",
        "# new code generalizable to 00 or 00/12 initialization files\n",
        "from string import ascii_uppercase as letter\n",
        "import os\n",
        "\n",
        "#  main\n",
        "if __name__ == \"__main__\":\n",
        "\n",
        "    gdal_calc = '/content/drive/MyDrive/NOAA/grib2_files_test/gdal_calc.py'\n",
        "    command = ['python', gdal_calc]\n",
        "\n",
        "    # Edit the five variables below to change the date, # files, or how many are initialized at midnight -vs- noon\n",
        "    year = '2019'\n",
        "    month = '10'\n",
        "    day = '21'\n",
        "    totalFiles = 24\n",
        "    nfile_init_at_midnight = 24 # keep as 12 except for days with all 12 files missing only then use 24\n",
        "\n",
        "    dd = year + month + day\n",
        "    smoke_path1 = \"/content/drive/MyDrive/HRRRsmoke_OS/grib2_files/\" + year + month + \"/\"\n",
        "    #smoke_path1 = \"/content/drive/MyDrive/NOAA/grib2_files/\" + year + month + \"/\"\n",
        "    smoke_path2 = \"/postprd/nearsfc_smoke_\"\n",
        "    smoke_path3 = \".grib2\"\n",
        "\n",
        "    ifile = 0;\n",
        "    strStart = '00'\n",
        "    for i in range(totalFiles):\n",
        "        command.append('-' + letter[i])\n",
        "        ordinal = str(ifile)\n",
        "        if ifile<10:\n",
        "            ordinal = '0' + ordinal\n",
        "        command.append(smoke_path1 + dd + strStart + smoke_path2 + ordinal + smoke_path3)\n",
        "        ifile = ifile + 1\n",
        "        if ifile >= nfile_init_at_midnight:\n",
        "            ifile = 0\n",
        "            strStart = '12'\n",
        "\n",
        "    output = \"/content/drive/MyDrive/HRRRsmoke_OS/averaged2019/\" + dd + \".tiff\"\n",
        "    #output = \"/content/drive/MyDrive/NOAA/grib2_files/averaged3/\" + dd + \".tiff\"\n",
        "    command.append(\"--outfile=\" + output)\n",
        "    letrList = '+'.join(letter[:totalFiles])\n",
        "    command.append('--calc=\"(' + letrList + ')/' + str(totalFiles) + '\"')\n",
        "    # command.append('--calc=\"(A+B+C+D+E+F+G+H+I+J+K+L+M+N+O+P+Q+R+S+T+U+V+W+X)/24\"')\n",
        "    theCommand = ' '.join(command)\n",
        "    print('command=[' + theCommand + ']')\n",
        "    os.system(theCommand)\n"
      ],
      "execution_count": null,
      "outputs": [
        {
          "output_type": "stream",
          "name": "stdout",
          "text": [
            "command=[python /content/drive/MyDrive/NOAA/grib2_files_test/gdal_calc.py -A /content/drive/MyDrive/HRRRsmoke_OS/grib2_files/201910/2019102100/postprd/nearsfc_smoke_00.grib2 -B /content/drive/MyDrive/HRRRsmoke_OS/grib2_files/201910/2019102100/postprd/nearsfc_smoke_01.grib2 -C /content/drive/MyDrive/HRRRsmoke_OS/grib2_files/201910/2019102100/postprd/nearsfc_smoke_02.grib2 -D /content/drive/MyDrive/HRRRsmoke_OS/grib2_files/201910/2019102100/postprd/nearsfc_smoke_03.grib2 -E /content/drive/MyDrive/HRRRsmoke_OS/grib2_files/201910/2019102100/postprd/nearsfc_smoke_04.grib2 -F /content/drive/MyDrive/HRRRsmoke_OS/grib2_files/201910/2019102100/postprd/nearsfc_smoke_05.grib2 -G /content/drive/MyDrive/HRRRsmoke_OS/grib2_files/201910/2019102100/postprd/nearsfc_smoke_06.grib2 -H /content/drive/MyDrive/HRRRsmoke_OS/grib2_files/201910/2019102100/postprd/nearsfc_smoke_07.grib2 -I /content/drive/MyDrive/HRRRsmoke_OS/grib2_files/201910/2019102100/postprd/nearsfc_smoke_08.grib2 -J /content/drive/MyDrive/HRRRsmoke_OS/grib2_files/201910/2019102100/postprd/nearsfc_smoke_09.grib2 -K /content/drive/MyDrive/HRRRsmoke_OS/grib2_files/201910/2019102100/postprd/nearsfc_smoke_10.grib2 -L /content/drive/MyDrive/HRRRsmoke_OS/grib2_files/201910/2019102100/postprd/nearsfc_smoke_11.grib2 -M /content/drive/MyDrive/HRRRsmoke_OS/grib2_files/201910/2019102100/postprd/nearsfc_smoke_12.grib2 -N /content/drive/MyDrive/HRRRsmoke_OS/grib2_files/201910/2019102100/postprd/nearsfc_smoke_13.grib2 -O /content/drive/MyDrive/HRRRsmoke_OS/grib2_files/201910/2019102100/postprd/nearsfc_smoke_14.grib2 -P /content/drive/MyDrive/HRRRsmoke_OS/grib2_files/201910/2019102100/postprd/nearsfc_smoke_15.grib2 -Q /content/drive/MyDrive/HRRRsmoke_OS/grib2_files/201910/2019102100/postprd/nearsfc_smoke_16.grib2 -R /content/drive/MyDrive/HRRRsmoke_OS/grib2_files/201910/2019102100/postprd/nearsfc_smoke_17.grib2 -S /content/drive/MyDrive/HRRRsmoke_OS/grib2_files/201910/2019102100/postprd/nearsfc_smoke_18.grib2 -T /content/drive/MyDrive/HRRRsmoke_OS/grib2_files/201910/2019102100/postprd/nearsfc_smoke_19.grib2 -U /content/drive/MyDrive/HRRRsmoke_OS/grib2_files/201910/2019102100/postprd/nearsfc_smoke_20.grib2 -V /content/drive/MyDrive/HRRRsmoke_OS/grib2_files/201910/2019102100/postprd/nearsfc_smoke_21.grib2 -W /content/drive/MyDrive/HRRRsmoke_OS/grib2_files/201910/2019102100/postprd/nearsfc_smoke_22.grib2 -X /content/drive/MyDrive/HRRRsmoke_OS/grib2_files/201910/2019102100/postprd/nearsfc_smoke_23.grib2 --outfile=/content/drive/MyDrive/HRRRsmoke_OS/averaged2019/20191021.tiff --calc=\"(A+B+C+D+E+F+G+H+I+J+K+L+M+N+O+P+Q+R+S+T+U+V+W+X)/24\"]\n"
          ]
        }
      ]
    },
    {
      "cell_type": "code",
      "source": [
        "# Averaging and output to tif\n",
        "# new code generalizable to 00 or 00/12 initialization files\n",
        "from string import ascii_uppercase as letter\n",
        "import os\n",
        "\n",
        "#  main\n",
        "if __name__ == \"__main__\":\n",
        "\n",
        "    gdal_calc = '/content/drive/MyDrive/NOAA/grib2_files_test/gdal_calc.py'\n",
        "    command = ['python', gdal_calc]\n",
        "\n",
        "    # Edit the five variables below to change the date, # files, or how many are initialized at midnight -vs- noon\n",
        "    year = '2019'\n",
        "    month = '10'\n",
        "    day = '20'\n",
        "    totalFiles = 24\n",
        "    nfile_init_at_midnight = 24 # keep as 12 except for days with all 12 files missing only then use 24\n",
        "\n",
        "    dd = year + month + day\n",
        "    smoke_path1 = \"/content/drive/MyDrive/HRRRsmoke_OS/grib2_files/\" + year + month + \"/\"\n",
        "    #smoke_path1 = \"/content/drive/MyDrive/NOAA/grib2_files/\" + year + month + \"/\"\n",
        "    smoke_path2 = \"/postprd/nearsfc_smoke_\"\n",
        "    smoke_path3 = \".grib2\"\n",
        "\n",
        "    ifile = 0;\n",
        "    strStart = '00'\n",
        "    for i in range(totalFiles):\n",
        "        command.append('-' + letter[i])\n",
        "        ordinal = str(ifile)\n",
        "        if ifile<10:\n",
        "            ordinal = '0' + ordinal\n",
        "        command.append(smoke_path1 + dd + strStart + smoke_path2 + ordinal + smoke_path3)\n",
        "        ifile = ifile + 1\n",
        "        if ifile >= nfile_init_at_midnight:\n",
        "            ifile = 0\n",
        "            strStart = '12'\n",
        "\n",
        "    output = \"/content/drive/MyDrive/HRRRsmoke_OS/averaged2019/\" + dd + \".tiff\"\n",
        "    #output = \"/content/drive/MyDrive/NOAA/grib2_files/averaged3/\" + dd + \".tiff\"\n",
        "    command.append(\"--outfile=\" + output)\n",
        "    letrList = '+'.join(letter[:totalFiles])\n",
        "    command.append('--calc=\"(' + letrList + ')/' + str(totalFiles) + '\"')\n",
        "    # command.append('--calc=\"(A+B+C+D+E+F+G+H+I+J+K+L+M+N+O+P+Q+R+S+T+U+V+W+X)/24\"')\n",
        "    theCommand = ' '.join(command)\n",
        "    print('command=[' + theCommand + ']')\n",
        "    os.system(theCommand)\n"
      ],
      "metadata": {
        "colab": {
          "base_uri": "https://localhost:8080/"
        },
        "id": "n6Yuj57Vx83i",
        "outputId": "4e5067fc-0406-4bd5-83a8-c8a7d4b05422"
      },
      "execution_count": null,
      "outputs": [
        {
          "output_type": "stream",
          "name": "stdout",
          "text": [
            "command=[python /content/drive/MyDrive/NOAA/grib2_files_test/gdal_calc.py -A /content/drive/MyDrive/HRRRsmoke_OS/grib2_files/201910/2019102000/postprd/nearsfc_smoke_00.grib2 -B /content/drive/MyDrive/HRRRsmoke_OS/grib2_files/201910/2019102000/postprd/nearsfc_smoke_01.grib2 -C /content/drive/MyDrive/HRRRsmoke_OS/grib2_files/201910/2019102000/postprd/nearsfc_smoke_02.grib2 -D /content/drive/MyDrive/HRRRsmoke_OS/grib2_files/201910/2019102000/postprd/nearsfc_smoke_03.grib2 -E /content/drive/MyDrive/HRRRsmoke_OS/grib2_files/201910/2019102000/postprd/nearsfc_smoke_04.grib2 -F /content/drive/MyDrive/HRRRsmoke_OS/grib2_files/201910/2019102000/postprd/nearsfc_smoke_05.grib2 -G /content/drive/MyDrive/HRRRsmoke_OS/grib2_files/201910/2019102000/postprd/nearsfc_smoke_06.grib2 -H /content/drive/MyDrive/HRRRsmoke_OS/grib2_files/201910/2019102000/postprd/nearsfc_smoke_07.grib2 -I /content/drive/MyDrive/HRRRsmoke_OS/grib2_files/201910/2019102000/postprd/nearsfc_smoke_08.grib2 -J /content/drive/MyDrive/HRRRsmoke_OS/grib2_files/201910/2019102000/postprd/nearsfc_smoke_09.grib2 -K /content/drive/MyDrive/HRRRsmoke_OS/grib2_files/201910/2019102000/postprd/nearsfc_smoke_10.grib2 -L /content/drive/MyDrive/HRRRsmoke_OS/grib2_files/201910/2019102000/postprd/nearsfc_smoke_11.grib2 -M /content/drive/MyDrive/HRRRsmoke_OS/grib2_files/201910/2019102000/postprd/nearsfc_smoke_12.grib2 -N /content/drive/MyDrive/HRRRsmoke_OS/grib2_files/201910/2019102000/postprd/nearsfc_smoke_13.grib2 -O /content/drive/MyDrive/HRRRsmoke_OS/grib2_files/201910/2019102000/postprd/nearsfc_smoke_14.grib2 -P /content/drive/MyDrive/HRRRsmoke_OS/grib2_files/201910/2019102000/postprd/nearsfc_smoke_15.grib2 -Q /content/drive/MyDrive/HRRRsmoke_OS/grib2_files/201910/2019102000/postprd/nearsfc_smoke_16.grib2 -R /content/drive/MyDrive/HRRRsmoke_OS/grib2_files/201910/2019102000/postprd/nearsfc_smoke_17.grib2 -S /content/drive/MyDrive/HRRRsmoke_OS/grib2_files/201910/2019102000/postprd/nearsfc_smoke_18.grib2 -T /content/drive/MyDrive/HRRRsmoke_OS/grib2_files/201910/2019102000/postprd/nearsfc_smoke_19.grib2 -U /content/drive/MyDrive/HRRRsmoke_OS/grib2_files/201910/2019102000/postprd/nearsfc_smoke_20.grib2 -V /content/drive/MyDrive/HRRRsmoke_OS/grib2_files/201910/2019102000/postprd/nearsfc_smoke_21.grib2 -W /content/drive/MyDrive/HRRRsmoke_OS/grib2_files/201910/2019102000/postprd/nearsfc_smoke_22.grib2 -X /content/drive/MyDrive/HRRRsmoke_OS/grib2_files/201910/2019102000/postprd/nearsfc_smoke_23.grib2 --outfile=/content/drive/MyDrive/HRRRsmoke_OS/averaged2019/20191020.tiff --calc=\"(A+B+C+D+E+F+G+H+I+J+K+L+M+N+O+P+Q+R+S+T+U+V+W+X)/24\"]\n"
          ]
        }
      ]
    },
    {
      "cell_type": "code",
      "source": [
        "# special case 1 - no 00\n",
        "import os\n",
        "import os\n",
        "! python /content/drive/MyDrive/NOAA/grib2_files_test/gdal_calc.py \\\n",
        "    -A  /content/drive/MyDrive/HRRRsmoke_OS/grib2_files/201910/2019101412/postprd/nearsfc_smoke_12.grib2 \\\n",
        "    -B  /content/drive/MyDrive/HRRRsmoke_OS/grib2_files/201910/2019101412/postprd/nearsfc_smoke_13.grib2 \\\n",
        "    -C  /content/drive/MyDrive/HRRRsmoke_OS/grib2_files/201910/2019101412/postprd/nearsfc_smoke_14.grib2 \\\n",
        "    -D  /content/drive/MyDrive/HRRRsmoke_OS/grib2_files/201910/2019101412/postprd/nearsfc_smoke_15.grib2 \\\n",
        "    -E  /content/drive/MyDrive/HRRRsmoke_OS/grib2_files/201910/2019101412/postprd/nearsfc_smoke_16.grib2 \\\n",
        "    -F  /content/drive/MyDrive/HRRRsmoke_OS/grib2_files/201910/2019101412/postprd/nearsfc_smoke_17.grib2 \\\n",
        "    -G  /content/drive/MyDrive/HRRRsmoke_OS/grib2_files/201910/2019101412/postprd/nearsfc_smoke_18.grib2 \\\n",
        "    -H  /content/drive/MyDrive/HRRRsmoke_OS/grib2_files/201910/2019101412/postprd/nearsfc_smoke_19.grib2 \\\n",
        "    -I  /content/drive/MyDrive/HRRRsmoke_OS/grib2_files/201910/2019101412/postprd/nearsfc_smoke_20.grib2 \\\n",
        "    -J  /content/drive/MyDrive/HRRRsmoke_OS/grib2_files/201910/2019101412/postprd/nearsfc_smoke_21.grib2 \\\n",
        "    -K  /content/drive/MyDrive/HRRRsmoke_OS/grib2_files/201910/2019101412/postprd/nearsfc_smoke_22.grib2 \\\n",
        "    -L  /content/drive/MyDrive/HRRRsmoke_OS/grib2_files/201910/2019101412/postprd/nearsfc_smoke_23.grib2 \\\n",
        "    -M  /content/drive/MyDrive/HRRRsmoke_OS/grib2_files/201910/2019101512/postprd/nearsfc_smoke_00.grib2 \\\n",
        "    -N  /content/drive/MyDrive/HRRRsmoke_OS/grib2_files/201910/2019101512/postprd/nearsfc_smoke_01.grib2 \\\n",
        "    -O  /content/drive/MyDrive/HRRRsmoke_OS/grib2_files/201910/2019101512/postprd/nearsfc_smoke_02.grib2 \\\n",
        "    -P  /content/drive/MyDrive/HRRRsmoke_OS/grib2_files/201910/2019101512/postprd/nearsfc_smoke_03.grib2 \\\n",
        "    -Q  /content/drive/MyDrive/HRRRsmoke_OS/grib2_files/201910/2019101512/postprd/nearsfc_smoke_04.grib2 \\\n",
        "    -R  /content/drive/MyDrive/HRRRsmoke_OS/grib2_files/201910/2019101512/postprd/nearsfc_smoke_05.grib2 \\\n",
        "    -S  /content/drive/MyDrive/HRRRsmoke_OS/grib2_files/201910/2019101512/postprd/nearsfc_smoke_06.grib2 \\\n",
        "    -T  /content/drive/MyDrive/HRRRsmoke_OS/grib2_files/201910/2019101512/postprd/nearsfc_smoke_07.grib2 \\\n",
        "    -U  /content/drive/MyDrive/HRRRsmoke_OS/grib2_files/201910/2019101512/postprd/nearsfc_smoke_08.grib2 \\\n",
        "    -V  /content/drive/MyDrive/HRRRsmoke_OS/grib2_files/201910/2019101512/postprd/nearsfc_smoke_09.grib2 \\\n",
        "    -W  /content/drive/MyDrive/HRRRsmoke_OS/grib2_files/201910/2019101512/postprd/nearsfc_smoke_10.grib2 \\\n",
        "    -X  /content/drive/MyDrive/HRRRsmoke_OS/grib2_files/201910/2019101512/postprd/nearsfc_smoke_11.grib2 \\\n",
        "    --outfile=/content/drive/MyDrive/HRRRsmoke_OS/averaged2019/20191015.tiff  \\\n",
        "    --calc=\"(A+B+C+D+E+F+G+H+I+J+K+L+M+N+O+P+Q+R+S+T+U+V+W+X)/24\""
      ],
      "metadata": {
        "id": "p_3uuI89Vt0l"
      },
      "execution_count": null,
      "outputs": []
    },
    {
      "cell_type": "code",
      "source": [
        "# special case 2 - no 00, previous day has no 12\n",
        "import os\n",
        "! python /content/drive/MyDrive/NOAA/grib2_files_test/gdal_calc.py \\\n",
        "    -A  /content/drive/MyDrive/HRRRsmoke_OS/grib2_files/201910/2019100800/postprd/nearsfc_smoke_24.grib2 \\\n",
        "    -B  /content/drive/MyDrive/HRRRsmoke_OS/grib2_files/201910/2019100800/postprd/nearsfc_smoke_25.grib2 \\\n",
        "    -C  /content/drive/MyDrive/HRRRsmoke_OS/grib2_files/201910/2019100800/postprd/nearsfc_smoke_26.grib2 \\\n",
        "    -D  /content/drive/MyDrive/HRRRsmoke_OS/grib2_files/201910/2019100800/postprd/nearsfc_smoke_27.grib2 \\\n",
        "    -E  /content/drive/MyDrive/HRRRsmoke_OS/grib2_files/201910/2019100800/postprd/nearsfc_smoke_28.grib2 \\\n",
        "    -F  /content/drive/MyDrive/HRRRsmoke_OS/grib2_files/201910/2019100800/postprd/nearsfc_smoke_29.grib2 \\\n",
        "    -G  /content/drive/MyDrive/HRRRsmoke_OS/grib2_files/201910/2019100800/postprd/nearsfc_smoke_30.grib2 \\\n",
        "    -H  /content/drive/MyDrive/HRRRsmoke_OS/grib2_files/201910/2019100800/postprd/nearsfc_smoke_31.grib2 \\\n",
        "    -I  /content/drive/MyDrive/HRRRsmoke_OS/grib2_files/201910/2019100800/postprd/nearsfc_smoke_32.grib2 \\\n",
        "    -J  /content/drive/MyDrive/HRRRsmoke_OS/grib2_files/201910/2019100800/postprd/nearsfc_smoke_33.grib2 \\\n",
        "    -K  /content/drive/MyDrive/HRRRsmoke_OS/grib2_files/201910/2019100800/postprd/nearsfc_smoke_34.grib2 \\\n",
        "    -L  /content/drive/MyDrive/HRRRsmoke_OS/grib2_files/201910/2019100800/postprd/nearsfc_smoke_35.grib2 \\\n",
        "    -M  /content/drive/MyDrive/HRRRsmoke_OS/grib2_files/201910/2019100912/postprd/nearsfc_smoke_00.grib2 \\\n",
        "    -N  /content/drive/MyDrive/HRRRsmoke_OS/grib2_files/201910/2019100912/postprd/nearsfc_smoke_01.grib2 \\\n",
        "    -O  /content/drive/MyDrive/HRRRsmoke_OS/grib2_files/201910/2019100912/postprd/nearsfc_smoke_02.grib2 \\\n",
        "    -P  /content/drive/MyDrive/HRRRsmoke_OS/grib2_files/201910/2019100912/postprd/nearsfc_smoke_03.grib2 \\\n",
        "    -Q  /content/drive/MyDrive/HRRRsmoke_OS/grib2_files/201910/2019100912/postprd/nearsfc_smoke_04.grib2 \\\n",
        "    -R  /content/drive/MyDrive/HRRRsmoke_OS/grib2_files/201910/2019100912/postprd/nearsfc_smoke_05.grib2 \\\n",
        "    -S  /content/drive/MyDrive/HRRRsmoke_OS/grib2_files/201910/2019100912/postprd/nearsfc_smoke_06.grib2 \\\n",
        "    -T  /content/drive/MyDrive/HRRRsmoke_OS/grib2_files/201910/2019100912/postprd/nearsfc_smoke_07.grib2 \\\n",
        "    -U  /content/drive/MyDrive/HRRRsmoke_OS/grib2_files/201910/2019100912/postprd/nearsfc_smoke_08.grib2 \\\n",
        "    -V  /content/drive/MyDrive/HRRRsmoke_OS/grib2_files/201910/2019100912/postprd/nearsfc_smoke_09.grib2 \\\n",
        "    -W  /content/drive/MyDrive/HRRRsmoke_OS/grib2_files/201910/2019100912/postprd/nearsfc_smoke_10.grib2 \\\n",
        "    -X  /content/drive/MyDrive/HRRRsmoke_OS/grib2_files/201910/2019100912/postprd/nearsfc_smoke_11.grib2 \\\n",
        "    --outfile=/content/drive/MyDrive/HRRRsmoke_OS/averaged2019/20191009.tiff  \\\n",
        "    --calc=\"(A+B+C+D+E+F+G+H+I+J+K+L+M+N+O+P+Q+R+S+T+U+V+W+X)/24\""
      ],
      "metadata": {
        "id": "bbmJf70PfPXd"
      },
      "execution_count": null,
      "outputs": []
    },
    {
      "cell_type": "code",
      "source": [
        "# special case 3: all 00 and 12 is missing -> use all previous day _12\n",
        "import os\n",
        "! python /content/drive/MyDrive/NOAA/grib2_files_test/gdal_calc.py \\\n",
        "    -A  /content/drive/MyDrive/HRRRsmoke_OS/grib2_files/201808/2018082512/postprd/nearsfc_smoke_12.grib2 \\\n",
        "    -B  /content/drive/MyDrive/HRRRsmoke_OS/grib2_files/201808/2018082512/postprd/nearsfc_smoke_13.grib2 \\\n",
        "    -C  /content/drive/MyDrive/HRRRsmoke_OS/grib2_files/201808/2018082512/postprd/nearsfc_smoke_14.grib2 \\\n",
        "    -D  /content/drive/MyDrive/HRRRsmoke_OS/grib2_files/201808/2018082512/postprd/nearsfc_smoke_15.grib2 \\\n",
        "    -E  /content/drive/MyDrive/HRRRsmoke_OS/grib2_files/201808/2018082512/postprd/nearsfc_smoke_16.grib2 \\\n",
        "    -F  /content/drive/MyDrive/HRRRsmoke_OS/grib2_files/201808/2018082512/postprd/nearsfc_smoke_17.grib2 \\\n",
        "    -G  /content/drive/MyDrive/HRRRsmoke_OS/grib2_files/201808/2018082512/postprd/nearsfc_smoke_18.grib2 \\\n",
        "    -H  /content/drive/MyDrive/HRRRsmoke_OS/grib2_files/201808/2018082512/postprd/nearsfc_smoke_19.grib2 \\\n",
        "    -I  /content/drive/MyDrive/HRRRsmoke_OS/grib2_files/201808/2018082512/postprd/nearsfc_smoke_20.grib2 \\\n",
        "    -J  /content/drive/MyDrive/HRRRsmoke_OS/grib2_files/201808/2018082512/postprd/nearsfc_smoke_21.grib2 \\\n",
        "    -K  /content/drive/MyDrive/HRRRsmoke_OS/grib2_files/201808/2018082512/postprd/nearsfc_smoke_22.grib2 \\\n",
        "    -L  /content/drive/MyDrive/HRRRsmoke_OS/grib2_files/201808/2018082512/postprd/nearsfc_smoke_23.grib2 \\\n",
        "    -M  /content/drive/MyDrive/HRRRsmoke_OS/grib2_files/201808/2018082512/postprd/nearsfc_smoke_24.grib2 \\\n",
        "    -N  /content/drive/MyDrive/HRRRsmoke_OS/grib2_files/201808/2018082512/postprd/nearsfc_smoke_25.grib2 \\\n",
        "    -O  /content/drive/MyDrive/HRRRsmoke_OS/grib2_files/201808/2018082512/postprd/nearsfc_smoke_26.grib2 \\\n",
        "    -P  /content/drive/MyDrive/HRRRsmoke_OS/grib2_files/201808/2018082512/postprd/nearsfc_smoke_27.grib2 \\\n",
        "    -Q  /content/drive/MyDrive/HRRRsmoke_OS/grib2_files/201808/2018082512/postprd/nearsfc_smoke_28.grib2 \\\n",
        "    -R  /content/drive/MyDrive/HRRRsmoke_OS/grib2_files/201808/2018082512/postprd/nearsfc_smoke_29.grib2 \\\n",
        "    -S  /content/drive/MyDrive/HRRRsmoke_OS/grib2_files/201808/2018082512/postprd/nearsfc_smoke_30.grib2 \\\n",
        "    -T  /content/drive/MyDrive/HRRRsmoke_OS/grib2_files/201808/2018082512/postprd/nearsfc_smoke_31.grib2 \\\n",
        "    -U  /content/drive/MyDrive/HRRRsmoke_OS/grib2_files/201808/2018082512/postprd/nearsfc_smoke_32.grib2 \\\n",
        "    -V  /content/drive/MyDrive/HRRRsmoke_OS/grib2_files/201808/2018082512/postprd/nearsfc_smoke_33.grib2 \\\n",
        "    -W  /content/drive/MyDrive/HRRRsmoke_OS/grib2_files/201808/2018082512/postprd/nearsfc_smoke_34.grib2 \\\n",
        "    -X  /content/drive/MyDrive/HRRRsmoke_OS/grib2_files/201808/2018082512/postprd/nearsfc_smoke_35.grib2 \\\n",
        "    --outfile=/content/drive/MyDrive/HRRRsmoke_OS/averaged/20180826.tiff  \\\n",
        "    --calc=\"(A+B+C+D+E+F+G+H+I+J+K+L+M+N+O+P+Q+R+S+T+U+V+W+X)/24\""
      ],
      "metadata": {
        "colab": {
          "base_uri": "https://localhost:8080/"
        },
        "id": "Z-7IcYxSQM5I",
        "outputId": "80811cb0-db06-4bdf-843a-3eacd0bae8e9"
      },
      "execution_count": null,
      "outputs": [
        {
          "output_type": "stream",
          "name": "stdout",
          "text": [
            "0.. 0.. 0.. 0.. 0.. 0.. 0.. 0.. 0.. 0.. 0.. 1.. 1.. 1.. 1.. 1.. 1.. 1.. 1.. 1.. 1.. 1.. 2.. 2.. 2.. 2.. 2.. 2.. 2.. 2.. 2.. 2.. 3.. 3.. 3.. 3.. 3.. 3.. 3.. 3.. 3.. 3.. 3.. 4.. 4.. 4.. 4.. 4.. 4.. 4.. 4.. 4.. 4.. 5.. 5.. 5.. 5.. 5.. 5.. 5.. 5.. 5.. 5.. 5.. 6.. 6.. 6.. 6.. 6.. 6.. 6.. 6.. 6.. 6.. 6.. 7.. 7.. 7.. 7.. 7.. 7.. 7.. 7.. 7.. 7.. 8.. 8.. 8.. 8.. 8.. 8.. 8.. 8.. 8.. 8.. 8.. 9.. 9.. 9.. 9.. 9.. 9.. 9.. 9.. 9.. 9.. 10.. 10.. 10.. 10.. 10.. 10.. 10.. 10.. 10.. 10.. 10.. 11.. 11.. 11.. 11.. 11.. 11.. 11.. 11.. 11.. 11.. 11.. 12.. 12.. 12.. 12.. 12.. 12.. 12.. 12.. 12.. 12.. 13.. 13.. 13.. 13.. 13.. 13.. 13.. 13.. 13.. 13.. 13.. 14.. 14.. 14.. 14.. 14.. 14.. 14.. 14.. 14.. 14.. 15.. 15.. 15.. 15.. 15.. 15.. 15.. 15.. 15.. 15.. 15.. 16.. 16.. 16.. 16.. 16.. 16.. 16.. 16.. 16.. 16.. 16.. 17.. 17.. 17.. 17.. 17.. 17.. 17.. 17.. 17.. 17.. 18.. 18.. 18.. 18.. 18.. 18.. 18.. 18.. 18.. 18.. 18.. 19.. 19.. 19.. 19.. 19.. 19.. 19.. 19.. 19.. 19.. 20.. 20.. 20.. 20.. 20.. 20.. 20.. 20.. 20.. 20.. 20.. 21.. 21.. 21.. 21.. 21.. 21.. 21.. 21.. 21.. 21.. 22.. 22.. 22.. 22.. 22.. 22.. 22.. 22.. 22.. 22.. 22.. 23.. 23.. 23.. 23.. 23.. 23.. 23.. 23.. 23.. 23.. 23.. 24.. 24.. 24.. 24.. 24.. 24.. 24.. 24.. 24.. 24.. 25.. 25.. 25.. 25.. 25.. 25.. 25.. 25.. 25.. 25.. 25.. 26.. 26.. 26.. 26.. 26.. 26.. 26.. 26.. 26.. 26.. 27.. 27.. 27.. 27.. 27.. 27.. 27.. 27.. 27.. 27.. 27.. 28.. 28.. 28.. 28.. 28.. 28.. 28.. 28.. 28.. 28.. 28.. 29.. 29.. 29.. 29.. 29.. 29.. 29.. 29.. 29.. 29.. 30.. 30.. 30.. 30.. 30.. 30.. 30.. 30.. 30.. 30.. 30.. 31.. 31.. 31.. 31.. 31.. 31.. 31.. 31.. 31.. 31.. 32.. 32.. 32.. 32.. 32.. 32.. 32.. 32.. 32.. 32.. 32.. 33.. 33.. 33.. 33.. 33.. 33.. 33.. 33.. 33.. 33.. 33.. 34.. 34.. 34.. 34.. 34.. 34.. 34.. 34.. 34.. 34.. 35.. 35.. 35.. 35.. 35.. 35.. 35.. 35.. 35.. 35.. 35.. 36.. 36.. 36.. 36.. 36.. 36.. 36.. 36.. 36.. 36.. 37.. 37.. 37.. 37.. 37.. 37.. 37.. 37.. 37.. 37.. 37.. 38.. 38.. 38.. 38.. 38.. 38.. 38.. 38.. 38.. 38.. 38.. 39.. 39.. 39.. 39.. 39.. 39.. 39.. 39.. 39.. 39.. 40.. 40.. 40.. 40.. 40.. 40.. 40.. 40.. 40.. 40.. 40.. 41.. 41.. 41.. 41.. 41.. 41.. 41.. 41.. 41.. 41.. 42.. 42.. 42.. 42.. 42.. 42.. 42.. 42.. 42.. 42.. 42.. 43.. 43.. 43.. 43.. 43.. 43.. 43.. 43.. 43.. 43.. 44.. 44.. 44.. 44.. 44.. 44.. 44.. 44.. 44.. 44.. 44.. 45.. 45.. 45.. 45.. 45.. 45.. 45.. 45.. 45.. 45.. 45.. 46.. 46.. 46.. 46.. 46.. 46.. 46.. 46.. 46.. 46.. 47.. 47.. 47.. 47.. 47.. 47.. 47.. 47.. 47.. 47.. 47.. 48.. 48.. 48.. 48.. 48.. 48.. 48.. 48.. 48.. 48.. 49.. 49.. 49.. 49.. 49.. 49.. 49.. 49.. 49.. 49.. 49.. 50.. 50.. 50.. 50.. 50.. 50.. 50.. 50.. 50.. 50.. 50.. 51.. 51.. 51.. 51.. 51.. 51.. 51.. 51.. 51.. 51.. 52.. 52.. 52.. 52.. 52.. 52.. 52.. 52.. 52.. 52.. 52.. 53.. 53.. 53.. 53.. 53.. 53.. 53.. 53.. 53.. 53.. 54.. 54.. 54.. 54.. 54.. 54.. 54.. 54.. 54.. 54.. 54.. 55.. 55.. 55.. 55.. 55.. 55.. 55.. 55.. 55.. 55.. 55.. 56.. 56.. 56.. 56.. 56.. 56.. 56.. 56.. 56.. 56.. 57.. 57.. 57.. 57.. 57.. 57.. 57.. 57.. 57.. 57.. 57.. 58.. 58.. 58.. 58.. 58.. 58.. 58.. 58.. 58.. 58.. 59.. 59.. 59.. 59.. 59.. 59.. 59.. 59.. 59.. 59.. 59.. 60.. 60.. 60.. 60.. 60.. 60.. 60.. 60.. 60.. 60.. 61.. 61.. 61.. 61.. 61.. 61.. 61.. 61.. 61.. 61.. 61.. 62.. 62.. 62.. 62.. 62.. 62.. 62.. 62.. 62.. 62.. 62.. 63.. 63.. 63.. 63.. 63.. 63.. 63.. 63.. 63.. 63.. 64.. 64.. 64.. 64.. 64.. 64.. 64.. 64.. 64.. 64.. 64.. 65.. 65.. 65.. 65.. 65.. 65.. 65.. 65.. 65.. 65.. 66.. 66.. 66.. 66.. 66.. 66.. 66.. 66.. 66.. 66.. 66.. 67.. 67.. 67.. 67.. 67.. 67.. 67.. 67.. 67.. 67.. 67.. 68.. 68.. 68.. 68.. 68.. 68.. 68.. 68.. 68.. 68.. 69.. 69.. 69.. 69.. 69.. 69.. 69.. 69.. 69.. 69.. 69.. 70.. 70.. 70.. 70.. 70.. 70.. 70.. 70.. 70.. 70.. 71.. 71.. 71.. 71.. 71.. 71.. 71.. 71.. 71.. 71.. 71.. 72.. 72.. 72.. 72.. 72.. 72.. 72.. 72.. 72.. 72.. 72.. 73.. 73.. 73.. 73.. 73.. 73.. 73.. 73.. 73.. 73.. 74.. 74.. 74.. 74.. 74.. 74.. 74.. 74.. 74.. 74.. 74.. 75.. 75.. 75.. 75.. 75.. 75.. 75.. 75.. 75.. 75.. 76.. 76.. 76.. 76.. 76.. 76.. 76.. 76.. 76.. 76.. 76.. 77.. 77.. 77.. 77.. 77.. 77.. 77.. 77.. 77.. 77.. 77.. 78.. 78.. 78.. 78.. 78.. 78.. 78.. 78.. 78.. 78.. 79.. 79.. 79.. 79.. 79.. 79.. 79.. 79.. 79.. 79.. 79.. 80.. 80.. 80.. 80.. 80.. 80.. 80.. 80.. 80.. 80.. 81.. 81.. 81.. 81.. 81.. 81.. 81.. 81.. 81.. 81.. 81.. 82.. 82.. 82.. 82.. 82.. 82.. 82.. 82.. 82.. 82.. 83.. 83.. 83.. 83.. 83.. 83.. 83.. 83.. 83.. 83.. 83.. 84.. 84.. 84.. 84.. 84.. 84.. 84.. 84.. 84.. 84.. 84.. 85.. 85.. 85.. 85.. 85.. 85.. 85.. 85.. 85.. 85.. 86.. 86.. 86.. 86.. 86.. 86.. 86.. 86.. 86.. 86.. 86.. 87.. 87.. 87.. 87.. 87.. 87.. 87.. 87.. 87.. 87.. 88.. 88.. 88.. 88.. 88.. 88.. 88.. 88.. 88.. 88.. 88.. 89.. 89.. 89.. 89.. 89.. 89.. 89.. 89.. 89.. 89.. 89.. 90.. 90.. 90.. 90.. 90.. 90.. 90.. 90.. 90.. 90.. 91.. 91.. 91.. 91.. 91.. 91.. 91.. 91.. 91.. 91.. 91.. 92.. 92.. 92.. 92.. 92.. 92.. 92.. 92.. 92.. 92.. 93.. 93.. 93.. 93.. 93.. 93.. 93.. 93.. 93.. 93.. 93.. 94.. 94.. 94.. 94.. 94.. 94.. 94.. 94.. 94.. 94.. 94.. 95.. 95.. 95.. 95.. 95.. 95.. 95.. 95.. 95.. 95.. 96.. 96.. 96.. 96.. 96.. 96.. 96.. 96.. 96.. 96.. 96.. 97.. 97.. 97.. 97.. 97.. 97.. 97.. 97.. 97.. 97.. 98.. 98.. 98.. 98.. 98.. 98.. 98.. 98.. 98.. 98.. 98.. 99.. 99.. 99.. 99.. 99.. 99.. 99.. 99.. 99.. 99.. 100 - Done\n"
          ]
        }
      ]
    },
    {
      "cell_type": "code",
      "source": [
        "# special case 4: all 00 and 12 is missing, previous 12 missing -> use all previous day _00\n",
        "import os\n",
        "! python /content/drive/MyDrive/NOAA/grib2_files_test/gdal_calc.py \\\n",
        "    -A  /content/drive/MyDrive/HRRRsmoke_OS/grib2_files/201910/2019102100/postprd/nearsfc_smoke_24.grib2 \\\n",
        "    -B  /content/drive/MyDrive/HRRRsmoke_OS/grib2_files/201910/2019102100/postprd/nearsfc_smoke_25.grib2 \\\n",
        "    -C  /content/drive/MyDrive/HRRRsmoke_OS/grib2_files/201910/2019102100/postprd/nearsfc_smoke_26.grib2 \\\n",
        "    -D  /content/drive/MyDrive/HRRRsmoke_OS/grib2_files/201910/2019102100/postprd/nearsfc_smoke_27.grib2 \\\n",
        "    -E  /content/drive/MyDrive/HRRRsmoke_OS/grib2_files/201910/2019102100/postprd/nearsfc_smoke_28.grib2 \\\n",
        "    -F  /content/drive/MyDrive/HRRRsmoke_OS/grib2_files/201910/2019102100/postprd/nearsfc_smoke_29.grib2 \\\n",
        "    -G  /content/drive/MyDrive/HRRRsmoke_OS/grib2_files/201910/2019102100/postprd/nearsfc_smoke_30.grib2 \\\n",
        "    -H  /content/drive/MyDrive/HRRRsmoke_OS/grib2_files/201910/2019102100/postprd/nearsfc_smoke_31.grib2 \\\n",
        "    -I  /content/drive/MyDrive/HRRRsmoke_OS/grib2_files/201910/2019102100/postprd/nearsfc_smoke_32.grib2 \\\n",
        "    -J  /content/drive/MyDrive/HRRRsmoke_OS/grib2_files/201910/2019102100/postprd/nearsfc_smoke_33.grib2 \\\n",
        "    -K  /content/drive/MyDrive/HRRRsmoke_OS/grib2_files/201910/2019102100/postprd/nearsfc_smoke_34.grib2 \\\n",
        "    -L  /content/drive/MyDrive/HRRRsmoke_OS/grib2_files/201910/2019102100/postprd/nearsfc_smoke_35.grib2 \\\n",
        "    -M  /content/drive/MyDrive/HRRRsmoke_OS/grib2_files/201910/2019102100/postprd/nearsfc_smoke_36.grib2 \\\n",
        "    -N  /content/drive/MyDrive/HRRRsmoke_OS/grib2_files/201910/2019102100/postprd/nearsfc_smoke_37.grib2 \\\n",
        "    -O  /content/drive/MyDrive/HRRRsmoke_OS/grib2_files/201910/2019102100/postprd/nearsfc_smoke_38.grib2 \\\n",
        "    -P  /content/drive/MyDrive/HRRRsmoke_OS/grib2_files/201910/2019102100/postprd/nearsfc_smoke_39.grib2 \\\n",
        "    -Q  /content/drive/MyDrive/HRRRsmoke_OS/grib2_files/201910/2019102100/postprd/nearsfc_smoke_40.grib2 \\\n",
        "    -R  /content/drive/MyDrive/HRRRsmoke_OS/grib2_files/201910/2019102100/postprd/nearsfc_smoke_41.grib2 \\\n",
        "    -S  /content/drive/MyDrive/HRRRsmoke_OS/grib2_files/201910/2019102100/postprd/nearsfc_smoke_42.grib2 \\\n",
        "    -T  /content/drive/MyDrive/HRRRsmoke_OS/grib2_files/201910/2019102100/postprd/nearsfc_smoke_43.grib2 \\\n",
        "    -U  /content/drive/MyDrive/HRRRsmoke_OS/grib2_files/201910/2019102100/postprd/nearsfc_smoke_44.grib2 \\\n",
        "    -V  /content/drive/MyDrive/HRRRsmoke_OS/grib2_files/201910/2019102100/postprd/nearsfc_smoke_45.grib2 \\\n",
        "    -W  /content/drive/MyDrive/HRRRsmoke_OS/grib2_files/201910/2019102100/postprd/nearsfc_smoke_46.grib2 \\\n",
        "    -X  /content/drive/MyDrive/HRRRsmoke_OS/grib2_files/201910/2019102100/postprd/nearsfc_smoke_47.grib2 \\\n",
        "    --outfile=/content/drive/MyDrive/HRRRsmoke_OS/averaged2019/20191022.tiff  \\\n",
        "    --calc=\"(A+B+C+D+E+F+G+H+I+J+K+L+M+N+O+P+Q+R+S+T+U+V+W+X)/24\""
      ],
      "metadata": {
        "id": "YPfb9TPJEi1i"
      },
      "execution_count": null,
      "outputs": []
    },
    {
      "cell_type": "code",
      "metadata": {
        "colab": {
          "base_uri": "https://localhost:8080/"
        },
        "id": "JiAyET9ZGufe",
        "outputId": "918451a6-0b6c-4747-b44d-c0ff9381cf06"
      },
      "source": [
        "# Connect to Google Cloud Storage\n",
        "from google.colab import auth\n",
        "auth.authenticate_user()\n",
        "project_id = 'amazing-blend-309705'\n",
        "!gcloud config set project {project_id}\n",
        "!gsutil ls"
      ],
      "execution_count": null,
      "outputs": [
        {
          "output_type": "stream",
          "name": "stdout",
          "text": [
            "Updated property [core/project].\n",
            "gs://noaa_os_2/\n"
          ]
        }
      ]
    },
    {
      "cell_type": "code",
      "metadata": {
        "colab": {
          "base_uri": "https://localhost:8080/"
        },
        "id": "Yn6qfroEHmEY",
        "outputId": "28097b4d-4bd4-4916-b290-009369329cb0"
      },
      "source": [
        "# Transfer from drive to GCS\n",
        "bucket_name = 'noaa_os_2'\n",
        "!gsutil -m cp -r /content/drive/MyDrive/HRRRsmoke_OS/averaged2019/* gs://{bucket_name}/"
      ],
      "execution_count": null,
      "outputs": [
        {
          "output_type": "stream",
          "name": "stdout",
          "text": [
            "Copying file:///content/drive/MyDrive/HRRRsmoke_OS/averaged2019/20190702.tiff [Content-Type=image/tiff]...\n",
            "Copying file:///content/drive/MyDrive/HRRRsmoke_OS/averaged2019/20190701.tiff [Content-Type=image/tiff]...\n",
            "/ [0 files][    0.0 B/ 14.5 MiB]                                                \r/ [0 files][    0.0 B/ 29.1 MiB]                                                \rCopying file:///content/drive/MyDrive/HRRRsmoke_OS/averaged2019/20190703.tiff [Content-Type=image/tiff]...\n",
            "/ [0 files][    0.0 B/ 43.6 MiB]                                                \rCopying file:///content/drive/MyDrive/HRRRsmoke_OS/averaged2019/20190710.tiff [Content-Type=image/tiff]...\n",
            "/ [0 files][    0.0 B/ 58.2 MiB]                                                \rCopying file:///content/drive/MyDrive/HRRRsmoke_OS/averaged2019/20190704.tiff [Content-Type=image/tiff]...\n",
            "/ [0 files][    0.0 B/ 72.7 MiB]                                                \rCopying file:///content/drive/MyDrive/HRRRsmoke_OS/averaged2019/20190713.tiff [Content-Type=image/tiff]...\n",
            "/ [0 files][    0.0 B/ 87.3 MiB]                                                \rCopying file:///content/drive/MyDrive/HRRRsmoke_OS/averaged2019/20190709.tiff [Content-Type=image/tiff]...\n",
            "/ [0 files][    0.0 B/101.8 MiB]                                                \rCopying file:///content/drive/MyDrive/HRRRsmoke_OS/averaged2019/20190711.tiff [Content-Type=image/tiff]...\n",
            "Copying file:///content/drive/MyDrive/HRRRsmoke_OS/averaged2019/20190708.tiff [Content-Type=image/tiff]...\n",
            "Copying file:///content/drive/MyDrive/HRRRsmoke_OS/averaged2019/20190714.tiff [Content-Type=image/tiff]...\n",
            "Copying file:///content/drive/MyDrive/HRRRsmoke_OS/averaged2019/20190715.tiff [Content-Type=image/tiff]...\n",
            "Copying file:///content/drive/MyDrive/HRRRsmoke_OS/averaged2019/20190716.tiff [Content-Type=image/tiff]...\n",
            "Copying file:///content/drive/MyDrive/HRRRsmoke_OS/averaged2019/20190718.tiff [Content-Type=image/tiff]...\n",
            "Copying file:///content/drive/MyDrive/HRRRsmoke_OS/averaged2019/20190719.tiff [Content-Type=image/tiff]...\n",
            "Copying file:///content/drive/MyDrive/HRRRsmoke_OS/averaged2019/20190720.tiff [Content-Type=image/tiff]...\n",
            "Copying file:///content/drive/MyDrive/HRRRsmoke_OS/averaged2019/20190721.tiff [Content-Type=image/tiff]...\n",
            "Copying file:///content/drive/MyDrive/HRRRsmoke_OS/averaged2019/20190722.tiff [Content-Type=image/tiff]...\n",
            "Copying file:///content/drive/MyDrive/HRRRsmoke_OS/averaged2019/20190723.tiff [Content-Type=image/tiff]...\n",
            "Copying file:///content/drive/MyDrive/HRRRsmoke_OS/averaged2019/20190724.tiff [Content-Type=image/tiff]...\n",
            "Copying file:///content/drive/MyDrive/HRRRsmoke_OS/averaged2019/20190725.tiff [Content-Type=image/tiff]...\n",
            "Copying file:///content/drive/MyDrive/HRRRsmoke_OS/averaged2019/20190726.tiff [Content-Type=image/tiff]...\n",
            "Copying file:///content/drive/MyDrive/HRRRsmoke_OS/averaged2019/20190727.tiff [Content-Type=image/tiff]...\n",
            "Copying file:///content/drive/MyDrive/HRRRsmoke_OS/averaged2019/20190728.tiff [Content-Type=image/tiff]...\n",
            "Copying file:///content/drive/MyDrive/HRRRsmoke_OS/averaged2019/20190729.tiff [Content-Type=image/tiff]...\n",
            "Copying file:///content/drive/MyDrive/HRRRsmoke_OS/averaged2019/20190730.tiff [Content-Type=image/tiff]...\n",
            "Copying file:///content/drive/MyDrive/HRRRsmoke_OS/averaged2019/20190731.tiff [Content-Type=image/tiff]...\n",
            "Copying file:///content/drive/MyDrive/HRRRsmoke_OS/averaged2019/20190801.tiff [Content-Type=image/tiff]...\n",
            "Copying file:///content/drive/MyDrive/HRRRsmoke_OS/averaged2019/20190803.tiff [Content-Type=image/tiff]...\n",
            "Copying file:///content/drive/MyDrive/HRRRsmoke_OS/averaged2019/20190804.tiff [Content-Type=image/tiff]...\n",
            "Copying file:///content/drive/MyDrive/HRRRsmoke_OS/averaged2019/20190805.tiff [Content-Type=image/tiff]...\n",
            "Copying file:///content/drive/MyDrive/HRRRsmoke_OS/averaged2019/20190806.tiff [Content-Type=image/tiff]...\n",
            "Copying file:///content/drive/MyDrive/HRRRsmoke_OS/averaged2019/20190807.tiff [Content-Type=image/tiff]...\n",
            "Copying file:///content/drive/MyDrive/HRRRsmoke_OS/averaged2019/20190808.tiff [Content-Type=image/tiff]...\n",
            "Copying file:///content/drive/MyDrive/HRRRsmoke_OS/averaged2019/20190809.tiff [Content-Type=image/tiff]...\n",
            "Copying file:///content/drive/MyDrive/HRRRsmoke_OS/averaged2019/20190810.tiff [Content-Type=image/tiff]...\n",
            "Copying file:///content/drive/MyDrive/HRRRsmoke_OS/averaged2019/20190811.tiff [Content-Type=image/tiff]...\n",
            "Copying file:///content/drive/MyDrive/HRRRsmoke_OS/averaged2019/20190812.tiff [Content-Type=image/tiff]...\n",
            "Copying file:///content/drive/MyDrive/HRRRsmoke_OS/averaged2019/20190813.tiff [Content-Type=image/tiff]...\n",
            "Copying file:///content/drive/MyDrive/HRRRsmoke_OS/averaged2019/20190814.tiff [Content-Type=image/tiff]...\n",
            "Copying file:///content/drive/MyDrive/HRRRsmoke_OS/averaged2019/20190815.tiff [Content-Type=image/tiff]...\n",
            "Copying file:///content/drive/MyDrive/HRRRsmoke_OS/averaged2019/20190816.tiff [Content-Type=image/tiff]...\n",
            "Copying file:///content/drive/MyDrive/HRRRsmoke_OS/averaged2019/20190817.tiff [Content-Type=image/tiff]...\n",
            "Copying file:///content/drive/MyDrive/HRRRsmoke_OS/averaged2019/20190818.tiff [Content-Type=image/tiff]...\n",
            "Copying file:///content/drive/MyDrive/HRRRsmoke_OS/averaged2019/20190819.tiff [Content-Type=image/tiff]...\n",
            "Copying file:///content/drive/MyDrive/HRRRsmoke_OS/averaged2019/20190820.tiff [Content-Type=image/tiff]...\n",
            "Copying file:///content/drive/MyDrive/HRRRsmoke_OS/averaged2019/20190821.tiff [Content-Type=image/tiff]...\n",
            "Copying file:///content/drive/MyDrive/HRRRsmoke_OS/averaged2019/20190822.tiff [Content-Type=image/tiff]...\n",
            "Copying file:///content/drive/MyDrive/HRRRsmoke_OS/averaged2019/20190823.tiff [Content-Type=image/tiff]...\n",
            "Copying file:///content/drive/MyDrive/HRRRsmoke_OS/averaged2019/20190824.tiff [Content-Type=image/tiff]...\n",
            "Copying file:///content/drive/MyDrive/HRRRsmoke_OS/averaged2019/20190825.tiff [Content-Type=image/tiff]...\n",
            "Copying file:///content/drive/MyDrive/HRRRsmoke_OS/averaged2019/20190826.tiff [Content-Type=image/tiff]...\n",
            "Copying file:///content/drive/MyDrive/HRRRsmoke_OS/averaged2019/20190827.tiff [Content-Type=image/tiff]...\n",
            "Copying file:///content/drive/MyDrive/HRRRsmoke_OS/averaged2019/20190828.tiff [Content-Type=image/tiff]...\n",
            "Copying file:///content/drive/MyDrive/HRRRsmoke_OS/averaged2019/20190829.tiff [Content-Type=image/tiff]...\n",
            "Copying file:///content/drive/MyDrive/HRRRsmoke_OS/averaged2019/20190830.tiff [Content-Type=image/tiff]...\n",
            "Copying file:///content/drive/MyDrive/HRRRsmoke_OS/averaged2019/20190831.tiff [Content-Type=image/tiff]...\n",
            "Copying file:///content/drive/MyDrive/HRRRsmoke_OS/averaged2019/20190901.tiff [Content-Type=image/tiff]...\n",
            "Copying file:///content/drive/MyDrive/HRRRsmoke_OS/averaged2019/20190902.tiff [Content-Type=image/tiff]...\n",
            "Copying file:///content/drive/MyDrive/HRRRsmoke_OS/averaged2019/20190903.tiff [Content-Type=image/tiff]...\n",
            "Copying file:///content/drive/MyDrive/HRRRsmoke_OS/averaged2019/20190904.tiff [Content-Type=image/tiff]...\n",
            "Copying file:///content/drive/MyDrive/HRRRsmoke_OS/averaged2019/20190905.tiff [Content-Type=image/tiff]...\n",
            "Copying file:///content/drive/MyDrive/HRRRsmoke_OS/averaged2019/20190906.tiff [Content-Type=image/tiff]...\n",
            "Copying file:///content/drive/MyDrive/HRRRsmoke_OS/averaged2019/20190907.tiff [Content-Type=image/tiff]...\n",
            "Copying file:///content/drive/MyDrive/HRRRsmoke_OS/averaged2019/20190908.tiff [Content-Type=image/tiff]...\n",
            "Copying file:///content/drive/MyDrive/HRRRsmoke_OS/averaged2019/20190909.tiff [Content-Type=image/tiff]...\n",
            "Copying file:///content/drive/MyDrive/HRRRsmoke_OS/averaged2019/20190910.tiff [Content-Type=image/tiff]...\n",
            "Copying file:///content/drive/MyDrive/HRRRsmoke_OS/averaged2019/20190913.tiff [Content-Type=image/tiff]...\n",
            "Copying file:///content/drive/MyDrive/HRRRsmoke_OS/averaged2019/20190914.tiff [Content-Type=image/tiff]...\n",
            "Copying file:///content/drive/MyDrive/HRRRsmoke_OS/averaged2019/20190915.tiff [Content-Type=image/tiff]...\n",
            "Copying file:///content/drive/MyDrive/HRRRsmoke_OS/averaged2019/20190916.tiff [Content-Type=image/tiff]...\n",
            "Copying file:///content/drive/MyDrive/HRRRsmoke_OS/averaged2019/20190917.tiff [Content-Type=image/tiff]...\n",
            "Copying file:///content/drive/MyDrive/HRRRsmoke_OS/averaged2019/20190918.tiff [Content-Type=image/tiff]...\n",
            "Copying file:///content/drive/MyDrive/HRRRsmoke_OS/averaged2019/20190919.tiff [Content-Type=image/tiff]...\n",
            "Copying file:///content/drive/MyDrive/HRRRsmoke_OS/averaged2019/20190920.tiff [Content-Type=image/tiff]...\n",
            "Copying file:///content/drive/MyDrive/HRRRsmoke_OS/averaged2019/20190921.tiff [Content-Type=image/tiff]...\n",
            "Copying file:///content/drive/MyDrive/HRRRsmoke_OS/averaged2019/20190922.tiff [Content-Type=image/tiff]...\n",
            "Copying file:///content/drive/MyDrive/HRRRsmoke_OS/averaged2019/20190923.tiff [Content-Type=image/tiff]...\n",
            "Copying file:///content/drive/MyDrive/HRRRsmoke_OS/averaged2019/20190925.tiff [Content-Type=image/tiff]...\n",
            "Copying file:///content/drive/MyDrive/HRRRsmoke_OS/averaged2019/20190924.tiff [Content-Type=image/tiff]...\n",
            "Copying file:///content/drive/MyDrive/HRRRsmoke_OS/averaged2019/20190926.tiff [Content-Type=image/tiff]...\n",
            "Copying file:///content/drive/MyDrive/HRRRsmoke_OS/averaged2019/20190927.tiff [Content-Type=image/tiff]...\n",
            "Copying file:///content/drive/MyDrive/HRRRsmoke_OS/averaged2019/20190928.tiff [Content-Type=image/tiff]...\n",
            "Copying file:///content/drive/MyDrive/HRRRsmoke_OS/averaged2019/20190929.tiff [Content-Type=image/tiff]...\n",
            "Copying file:///content/drive/MyDrive/HRRRsmoke_OS/averaged2019/20190930.tiff [Content-Type=image/tiff]...\n",
            "Copying file:///content/drive/MyDrive/HRRRsmoke_OS/averaged2019/20191001.tiff [Content-Type=image/tiff]...\n",
            "Copying file:///content/drive/MyDrive/HRRRsmoke_OS/averaged2019/20191002.tiff [Content-Type=image/tiff]...\n",
            "Copying file:///content/drive/MyDrive/HRRRsmoke_OS/averaged2019/20191003.tiff [Content-Type=image/tiff]...\n",
            "Copying file:///content/drive/MyDrive/HRRRsmoke_OS/averaged2019/20191004.tiff [Content-Type=image/tiff]...\n",
            "Copying file:///content/drive/MyDrive/HRRRsmoke_OS/averaged2019/20191005.tiff [Content-Type=image/tiff]...\n",
            "Copying file:///content/drive/MyDrive/HRRRsmoke_OS/averaged2019/20191006.tiff [Content-Type=image/tiff]...\n",
            "Copying file:///content/drive/MyDrive/HRRRsmoke_OS/averaged2019/20191007.tiff [Content-Type=image/tiff]...\n",
            "Copying file:///content/drive/MyDrive/HRRRsmoke_OS/averaged2019/20191008.tiff [Content-Type=image/tiff]...\n",
            "Copying file:///content/drive/MyDrive/HRRRsmoke_OS/averaged2019/20191009.tiff [Content-Type=image/tiff]...\n",
            "Copying file:///content/drive/MyDrive/HRRRsmoke_OS/averaged2019/20191010.tiff [Content-Type=image/tiff]...\n",
            "Copying file:///content/drive/MyDrive/HRRRsmoke_OS/averaged2019/20191011.tiff [Content-Type=image/tiff]...\n",
            "Copying file:///content/drive/MyDrive/HRRRsmoke_OS/averaged2019/20191012.tiff [Content-Type=image/tiff]...\n",
            "Copying file:///content/drive/MyDrive/HRRRsmoke_OS/averaged2019/20191013.tiff [Content-Type=image/tiff]...\n",
            "Copying file:///content/drive/MyDrive/HRRRsmoke_OS/averaged2019/20191015.tiff [Content-Type=image/tiff]...\n",
            "Copying file:///content/drive/MyDrive/HRRRsmoke_OS/averaged2019/20191014.tiff [Content-Type=image/tiff]...\n",
            "Copying file:///content/drive/MyDrive/HRRRsmoke_OS/averaged2019/20191016.tiff [Content-Type=image/tiff]...\n",
            "Copying file:///content/drive/MyDrive/HRRRsmoke_OS/averaged2019/20191017.tiff [Content-Type=image/tiff]...\n",
            "Copying file:///content/drive/MyDrive/HRRRsmoke_OS/averaged2019/20191019.tiff [Content-Type=image/tiff]...\n",
            "Copying file:///content/drive/MyDrive/HRRRsmoke_OS/averaged2019/20191020.tiff [Content-Type=image/tiff]...\n",
            "Copying file:///content/drive/MyDrive/HRRRsmoke_OS/averaged2019/20191021.tiff [Content-Type=image/tiff]...\n",
            "Copying file:///content/drive/MyDrive/HRRRsmoke_OS/averaged2019/20191022.tiff [Content-Type=image/tiff]...\n",
            "Copying file:///content/drive/MyDrive/HRRRsmoke_OS/averaged2019/20191023.tiff [Content-Type=image/tiff]...\n",
            "Copying file:///content/drive/MyDrive/HRRRsmoke_OS/averaged2019/20191024.tiff [Content-Type=image/tiff]...\n",
            "Copying file:///content/drive/MyDrive/HRRRsmoke_OS/averaged2019/20191025.tiff [Content-Type=image/tiff]...\n",
            "Copying file:///content/drive/MyDrive/HRRRsmoke_OS/averaged2019/20191026.tiff [Content-Type=image/tiff]...\n",
            "Copying file:///content/drive/MyDrive/HRRRsmoke_OS/averaged2019/20191027.tiff [Content-Type=image/tiff]...\n",
            "Copying file:///content/drive/MyDrive/HRRRsmoke_OS/averaged2019/20191028.tiff [Content-Type=image/tiff]...\n",
            "Copying file:///content/drive/MyDrive/HRRRsmoke_OS/averaged2019/20191029.tiff [Content-Type=image/tiff]...\n",
            "Copying file:///content/drive/MyDrive/HRRRsmoke_OS/averaged2019/20191030.tiff [Content-Type=image/tiff]...\n",
            "Copying file:///content/drive/MyDrive/HRRRsmoke_OS/averaged2019/20191031.tiff [Content-Type=image/tiff]...\n",
            "- [114/114 files][  1.6 GiB/  1.6 GiB] 100% Done  84.5 MiB/s ETA 00:00:00       \n",
            "Operation completed over 114 objects/1.6 GiB.                                    \n"
          ]
        }
      ]
    },
    {
      "cell_type": "code",
      "metadata": {
        "colab": {
          "base_uri": "https://localhost:8080/"
        },
        "id": "94g5JwAGpnjD",
        "outputId": "1f91ce8a-4257-49ec-f84e-7bbaaf3d581a"
      },
      "source": [
        "# Setup connection to Google Earth Engine \n",
        "import ee\n",
        "# Trigger the authentication flow for gee\n",
        "ee.Authenticate()\n",
        "\n",
        "# Initialize the library.\n",
        "ee.Initialize()"
      ],
      "execution_count": null,
      "outputs": [
        {
          "output_type": "stream",
          "name": "stdout",
          "text": [
            "To authorize access needed by Earth Engine, open the following URL in a web browser and follow the instructions. If the web browser does not start automatically, please manually browse the URL below.\n",
            "\n",
            "    https://code.earthengine.google.com/client-auth?scopes=https%3A//www.googleapis.com/auth/earthengine%20https%3A//www.googleapis.com/auth/devstorage.full_control&request_id=Wsef0lspH2ZW_vnJHfkxZe1mupmNEYf-O3ISTePXlBY&tc=NJiMXyQ0yem6D6jecIgR2c1mXsZVAPYdEMZA7oynAJg&cc=xsPBb1o5qGNcYgdJ3i87IKOe8GnDAAvhkRY1EeO9xwU\n",
            "\n",
            "The authorization workflow will generate a code, which you should paste in the box below.\n",
            "Enter verification code: 4/1AfgeXvtCDh9rvBS6sKFasmhxslofUrk57xivxvyrfS_Pg8CLWEHjTgyO28Q\n",
            "\n",
            "Successfully saved authorization token.\n"
          ]
        }
      ]
    },
    {
      "cell_type": "code",
      "metadata": {
        "colab": {
          "base_uri": "https://localhost:8080/"
        },
        "id": "LwkYogRkp6l9",
        "outputId": "56c10c5d-fdf5-4087-ddaf-e91edcce0b0a"
      },
      "source": [
        "# test GEE API to check connection: Print the elevation of Mount Everest.\n",
        "dem = ee.Image('USGS/SRTMGL1_003')\n",
        "xy = ee.Geometry.Point([86.9250, 27.9881])\n",
        "elev = dem.sample(xy, 30).first().get('elevation').getInfo()\n",
        "print('Mount Everest elevation (m):', elev)"
      ],
      "execution_count": null,
      "outputs": [
        {
          "output_type": "stream",
          "name": "stdout",
          "text": [
            "Mount Everest elevation (m): 8729\n"
          ]
        }
      ]
    },
    {
      "cell_type": "code",
      "metadata": {
        "colab": {
          "base_uri": "https://localhost:8080/"
        },
        "id": "s701FHmhYplO",
        "outputId": "9f76da8f-df85-46d7-d6e2-74443c873dc0"
      },
      "source": [
        "# Send files from GSC to GEE\n",
        "!earthengine upload image --asset_id=users/sraby/noaa_daily_2018/20180731 gs://noaa_os_1/20180731.tiff\n"
      ],
      "execution_count": null,
      "outputs": [
        {
          "output_type": "stream",
          "name": "stdout",
          "text": [
            "Started upload task with ID: SFM6TEFDDABIWSD45YWCF2AD\n"
          ]
        }
      ]
    },
    {
      "cell_type": "code",
      "source": [
        "# Send files from GSC to GEE\n",
        "!earthengine upload image --asset_id=users/sraby/noaa_daily_2018/20180730 gs://noaa_os_1/20180730.tiff"
      ],
      "metadata": {
        "colab": {
          "base_uri": "https://localhost:8080/"
        },
        "id": "cLPfUKfALLEP",
        "outputId": "7d72cd2d-e740-415d-832f-9b106eae10a3"
      },
      "execution_count": null,
      "outputs": [
        {
          "output_type": "stream",
          "name": "stdout",
          "text": [
            "Started upload task with ID: CWRKW6L32MEXJE7VVNFNPR44\n"
          ]
        }
      ]
    },
    {
      "cell_type": "code",
      "metadata": {
        "id": "2TTmQpHd9amq"
      },
      "source": [
        "# Set start time on files (for time averaging in GEE)\n",
        "!earthengine asset set --time_start 2018-07-01 users/sraby/noaa_daily_2018/20180701\n",
        "# And that's a wrap! "
      ],
      "execution_count": null,
      "outputs": []
    }
  ]
}